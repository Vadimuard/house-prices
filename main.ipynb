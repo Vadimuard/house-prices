{
 "cells": [
  {
   "cell_type": "markdown",
   "source": [
    "# House prediction project\n",
    "### Import the dataset and fit the data into the model"
   ],
   "metadata": {
    "collapsed": false,
    "pycharm": {
     "name": "#%% md\n"
    }
   }
  },
  {
   "cell_type": "code",
   "execution_count": 9,
   "outputs": [],
   "source": [
    "import pickle\n",
    "import pandas as pd\n",
    "from sklearn.ensemble import GradientBoostingRegressor\n",
    "from sklearn.preprocessing import StandardScaler\n",
    "from utils.dataloader import DataLoader\n",
    "from settings.constants import TRAIN_CSV, TEST_CSV\n",
    "\n",
    "train = pd.read_csv(TRAIN_CSV, header=0)\n",
    "test = pd.read_csv(TEST_CSV, header=0)\n",
    "y = train['SalePrice']\n",
    "train = train.drop('SalePrice', axis=1)\n",
    "full_df = pd.concat([train, test]).reset_index(drop=True)\n",
    "\n",
    "loader = DataLoader()\n",
    "loader.fit(full_df)\n",
    "full_df = loader.load_data()\n",
    "\n",
    "Scaler = StandardScaler()\n",
    "full_df_scaled = pd.DataFrame(Scaler.fit_transform(full_df))\n",
    "\n",
    "train_scaled = pd.DataFrame(full_df_scaled[:1460])\n",
    "model = GradientBoostingRegressor()\n",
    "model.fit(train_scaled, y)\n",
    "with open('models/GBR.pickle', 'wb')as f:\n",
    "    pickle.dump(model, f)"
   ],
   "metadata": {
    "collapsed": false,
    "pycharm": {
     "name": "#%%\n"
    }
   }
  },
  {
   "cell_type": "code",
   "execution_count": 10,
   "outputs": [],
   "source": [
    "\n",
    "# from settings.constants import TEST_CSV, VAL_CSV\n",
    "# test = pd.read_csv(TEST_CSV)\n",
    "#\n",
    "# print(test['Alley'][:5])\n",
    "# val = pd.read_csv('data/sample_submission.csv')\n",
    "# test['SalePrice'] = val['SalePrice']\n",
    "# test.to_csv(VAL_CSV, index=False)"
   ],
   "metadata": {
    "collapsed": false,
    "pycharm": {
     "name": "#%%\n"
    }
   }
  },
  {
   "cell_type": "markdown",
   "source": [
    "### Check the score of the model"
   ],
   "metadata": {
    "collapsed": false,
    "pycharm": {
     "name": "#%% md\n"
    }
   }
  },
  {
   "cell_type": "code",
   "execution_count": 17,
   "outputs": [
    {
     "name": "stdout",
     "output_type": "stream",
     "text": [
      "            0         1         2         3         4         5         6   \\\n",
      "1460  0.001187 -0.873616 -1.555991  0.511940  0.184371  0.064249  0.746669   \n",
      "1461  0.002373 -0.873616 -0.046038  0.558857  0.519791  0.064249 -1.381776   \n",
      "1462  0.003560  0.067331 -0.046038  0.230438  0.464374  0.064249 -1.381776   \n",
      "1463  0.004747  0.067331 -0.046038  0.418106 -0.024109  0.064249 -1.381776   \n",
      "1464  0.005934  1.478753 -0.046038 -1.223988 -0.654748  0.064249 -1.381776   \n",
      "\n",
      "            7         8        9   ...        64        65        66  \\\n",
      "1460  0.316671  0.588555 -0.21626  ... -0.702843 -0.359601 -0.103331   \n",
      "1461  0.316671 -1.904903 -0.21626  ... -0.170014 -0.359601 -0.103331   \n",
      "1462  0.316671  0.588555 -0.21626  ... -0.199616 -0.359601 -0.103331   \n",
      "1463  0.316671  0.588555 -0.21626  ... -0.170014 -0.359601 -0.103331   \n",
      "1464 -2.523149  0.588555 -0.21626  ...  0.510823 -0.359601 -0.103331   \n",
      "\n",
      "            67       68         69        70       71        72        73  \n",
      "1460  1.850256 -0.06315  -0.089592 -0.078505  1.67886  0.319053  0.204967  \n",
      "1461 -0.285935 -0.06315  21.944410 -0.078505  1.67886  0.319053  0.204967  \n",
      "1462 -0.285935 -0.06315  -0.089592 -1.183764  1.67886  0.319053  0.204967  \n",
      "1463 -0.285935 -0.06315  -0.089592 -0.078505  1.67886  0.319053  0.204967  \n",
      "1464  2.277494 -0.06315  -0.089592 -1.920603  1.67886  0.319053  0.204967  \n",
      "\n",
      "[5 rows x 74 columns]\n",
      "1460    169277.052498\n",
      "1461    187758.393989\n",
      "1462    183583.683570\n",
      "1463    179317.477511\n",
      "1464    150730.079977\n",
      "Name: SalePrice, dtype: float64\n"
     ]
    },
    {
     "data": {
      "text/plain": "-18.721904383452745"
     },
     "execution_count": 17,
     "metadata": {},
     "output_type": "execute_result"
    }
   ],
   "source": [
    "import pickle\n",
    "import pandas as pd\n",
    "\n",
    "from utils.dataloader import DataLoader\n",
    "from settings. constants import VAL_CSV\n",
    "\n",
    "# train = pd.read_csv(TRAIN_CSV)\n",
    "# test = pd.read_csv(TEST_CSV)\n",
    "y_test = pd.read_csv(VAL_CSV)['SalePrice']\n",
    "y = pd.concat([y, y_test]).reset_index(drop=True)\n",
    "y = y[1460:2920]\n",
    "\n",
    "# train = train.drop('SalePrice', axis=1)\n",
    "# full_df = pd.concat([train, test]).reset_index(drop=True)\n",
    "#\n",
    "# loader = DataLoader()\n",
    "# loader.fit(full_df)\n",
    "# full_df = loader.load_data()\n",
    "#\n",
    "# Scaler = StandardScaler()\n",
    "# full_df_scaled = pd.DataFrame(Scaler.fit_transform(full_df))\n",
    "test_scaled = pd.DataFrame(full_df_scaled[1460:2920])\n",
    "print(test_scaled.head())\n",
    "loaded_model = pickle.load(open('models/GBR.pickle', 'rb'))\n",
    "print(y.head())\n",
    "loaded_model.score(test_scaled, y)"
   ],
   "metadata": {
    "collapsed": false,
    "pycharm": {
     "name": "#%%\n"
    }
   }
  }
 ],
 "metadata": {
  "kernelspec": {
   "display_name": "Python 3",
   "language": "python",
   "name": "python3"
  },
  "language_info": {
   "codemirror_mode": {
    "name": "ipython",
    "version": 2
   },
   "file_extension": ".py",
   "mimetype": "text/x-python",
   "name": "python",
   "nbconvert_exporter": "python",
   "pygments_lexer": "ipython2",
   "version": "3.9.3"
  }
 },
 "nbformat": 4,
 "nbformat_minor": 0
}