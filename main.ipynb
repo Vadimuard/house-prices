{
 "cells": [
  {
   "cell_type": "markdown",
   "source": [
    "# House prediction project\n",
    "### Import the dataset and fit the data into the model"
   ],
   "metadata": {
    "collapsed": false,
    "pycharm": {
     "name": "#%% md\n"
    }
   }
  },
  {
   "cell_type": "code",
   "execution_count": 50,
   "outputs": [],
   "source": [
    "import pickle\n",
    "import json\n",
    "import pandas as pd\n",
    "from sklearn.ensemble import GradientBoostingRegressor\n",
    "\n",
    "from utils.dataloader import DataLoader\n",
    "from settings. constants import TRAIN_CSV\n",
    "\n",
    "\n",
    "with open('settings/specifications.json') as f:\n",
    "    specifications = json.load(f)\n",
    "\n",
    "raw_train = pd.read_csv(TRAIN_CSV)\n",
    "x_columns = specifications['description']['X']\n",
    "y_column = specifications['description']['y']\n",
    "\n",
    "x_raw = raw_train[x_columns]\n",
    "\n",
    "loader = DataLoader()\n",
    "loader.fit(x_raw)\n",
    "X = loader.load_data()\n",
    "y = raw_train[y_column]\n",
    "\n",
    "model = GradientBoostingRegressor()\n",
    "model.fit(X, y)\n",
    "with open('models/GBR.pickle', 'wb')as f:\n",
    "    pickle.dump(model, f)"
   ],
   "metadata": {
    "collapsed": false,
    "pycharm": {
     "name": "#%%\n"
    }
   }
  },
  {
   "cell_type": "markdown",
   "source": [
    "### Check the score of the model"
   ],
   "metadata": {
    "collapsed": false,
    "pycharm": {
     "name": "#%% md\n"
    }
   }
  },
  {
   "cell_type": "code",
   "execution_count": 55,
   "outputs": [
    {
     "name": "stdout",
     "output_type": "stream",
     "text": [
      "-18.495378452082797\n"
     ]
    }
   ],
   "source": [
    "import pickle\n",
    "import json\n",
    "import pandas as pd\n",
    "\n",
    "from utils.dataloader import DataLoader\n",
    "from settings. constants import VAL_CSV\n",
    "\n",
    "\n",
    "with open('settings/specifications.json') as f:\n",
    "    specifications = json.load(f)\n",
    "\n",
    "x_columns = specifications['description']['X']\n",
    "y_column = specifications['description']['y']\n",
    "\n",
    "raw_val = pd.read_csv(VAL_CSV)\n",
    "x_raw = raw_val[x_columns]\n",
    "\n",
    "loader = DataLoader()\n",
    "loader.fit(x_raw)\n",
    "X = loader.load_data()\n",
    "y = raw_val[y_column]\n",
    "loaded_model = pickle.load(open('models/GBR.pickle', 'rb'))\n",
    "y_pred = pd.DataFrame(loaded_model.predict(X))\n",
    "print(loaded_model.score(X, y))\n",
    "tocsv = pd.DataFrame()\n",
    "tocsv['Id'] = raw_val['Id']\n",
    "tocsv['SalePrice'] = y_pred[0]\n",
    "tocsv.to_csv('data/submission.csv', index=False)"
   ],
   "metadata": {
    "collapsed": false,
    "pycharm": {
     "name": "#%%\n"
    }
   }
  },
  {
   "cell_type": "code",
   "execution_count": 52,
   "outputs": [
    {
     "name": "stdout",
     "output_type": "stream",
     "text": [
      "32.36361594883216\n"
     ]
    }
   ],
   "source": [
    "import numpy as np\n",
    "def mean_absolute_percentage_error(y_true, y_pred):\n",
    "    y_true, y_pred = np.array(y_true), np.array(y_pred)\n",
    "    return np.mean(np.abs((y_true - y_pred) / y_true)) * 100\n",
    "\n",
    "print(mean_absolute_percentage_error(y, y_pred))"
   ],
   "metadata": {
    "collapsed": false,
    "pycharm": {
     "name": "#%%\n"
    }
   }
  },
  {
   "cell_type": "code",
   "execution_count": 53,
   "outputs": [
    {
     "name": "stdout",
     "output_type": "stream",
     "text": [
      "data:     MSSubClass  MSZoning  LotFrontage  LotArea  Street  LotShape  LandContour  \\\n",
      "0          20         2         80.0    11622       1         3            3   \n",
      "1          20         3         81.0    14267       1         0            3   \n",
      "2          60         3         74.0    13830       1         0            3   \n",
      "3          60         3         78.0     9978       1         0            3   \n",
      "4         120         3         43.0     5005       1         0            1   \n",
      "5          60         3         75.0    10000       1         0            3   \n",
      "6          20         3         67.0     7980       1         0            3   \n",
      "7          60         3         63.0     8402       1         0            3   \n",
      "8          20         3         85.0    10176       1         3            3   \n",
      "9          20         3         70.0     8400       1         3            3   \n",
      "\n",
      "   LotConfig  LandSlope  Neighborhood  ...  OpenPorchSF  EnclosedPorch  \\\n",
      "0          4          0            12  ...            0              0   \n",
      "1          0          0            12  ...           36              0   \n",
      "2          4          0             8  ...           34              0   \n",
      "3          4          0             8  ...           36              0   \n",
      "4          4          0            22  ...           82              0   \n",
      "5          0          0             8  ...           84              0   \n",
      "6          4          0             8  ...           21              0   \n",
      "7          4          0             8  ...           75              0   \n",
      "8          4          0             8  ...            0              0   \n",
      "9          0          0            12  ...            0              0   \n",
      "\n",
      "   3SsnPorch  ScreenPorch  PoolArea  MiscVal  MoSold  YrSold  SaleType  \\\n",
      "0          0          120         0        0       6    2010         8   \n",
      "1          0            0         0    12500       6    2010         8   \n",
      "2          0            0         0        0       3    2010         8   \n",
      "3          0            0         0        0       6    2010         8   \n",
      "4          0          144         0        0       1    2010         8   \n",
      "5          0            0         0        0       4    2010         8   \n",
      "6          0            0         0      500       3    2010         8   \n",
      "7          0            0         0        0       5    2010         8   \n",
      "8          0            0         0        0       2    2010         8   \n",
      "9          0            0         0        0       4    2010         8   \n",
      "\n",
      "   SaleCondition  \n",
      "0              4  \n",
      "1              4  \n",
      "2              4  \n",
      "3              4  \n",
      "4              4  \n",
      "5              4  \n",
      "6              4  \n",
      "7              4  \n",
      "8              4  \n",
      "9              4  \n",
      "\n",
      "[10 rows x 73 columns]\n",
      "predict:  [24696.655247181083, 31076.019069949303, 49925.39850672309, 46928.81702273189, 40865.16117835575, 48625.47799097893, 35754.68594051667, 48625.47799097893, 58547.02453111402, 24895.491245503297]\n",
      "accuracy:  76.06852323382884\n"
     ]
    }
   ],
   "source": [
    "import json\n",
    "import requests\n",
    "import pandas as pd\n",
    "from sklearn.svm import SVC\n",
    "from sklearn.metrics import accuracy_score\n",
    "\n",
    "from utils import DataLoader, Estimator\n",
    "from settings. constants import TRAIN_CSV, VAL_CSV\n",
    "\n",
    "with open('settings/specifications.json') as f:\n",
    "    specifications = json.load(f)\n",
    "\n",
    "info = specifications['description']\n",
    "x_columns, y_column, metrics = info['X'], info['y'], info['metrics']\n",
    "\n",
    "train_set = pd.read_csv(TRAIN_CSV, header=0)\n",
    "val_set = pd.read_csv(VAL_CSV, header=0)\n",
    "\n",
    "train_x, train_y = train_set[x_columns], train_set[y_column]\n",
    "val_x, val_y = val_set[x_columns], val_set[y_column]\n",
    "\n",
    "loader = DataLoader()\n",
    "loader.fit(val_x)\n",
    "val_processed = loader.load_data()\n",
    "print('data: ', val_processed[:10])\n",
    "\n",
    "req_data = {'data': json.dumps(val_x.to_dict())}\n",
    "response = requests.get('http://0.0.0.0:8000/predict', data=req_data)\n",
    "api_predict = response.json()['prediction']\n",
    "print('predict: ', api_predict[:10])\n",
    "\n",
    "api_score = eval(metrics)(val_y, api_predict)\n",
    "print('accuracy: ', api_score)"
   ],
   "metadata": {
    "collapsed": false,
    "pycharm": {
     "name": "#%%\n"
    }
   }
  }
 ],
 "metadata": {
  "kernelspec": {
   "display_name": "Python 3",
   "language": "python",
   "name": "python3"
  },
  "language_info": {
   "codemirror_mode": {
    "name": "ipython",
    "version": 2
   },
   "file_extension": ".py",
   "mimetype": "text/x-python",
   "name": "python",
   "nbconvert_exporter": "python",
   "pygments_lexer": "ipython2",
   "version": "3.9.3"
  }
 },
 "nbformat": 4,
 "nbformat_minor": 0
}