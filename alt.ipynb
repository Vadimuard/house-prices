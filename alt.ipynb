{
 "cells": [
  {
   "cell_type": "code",
   "execution_count": 131,
   "metadata": {
    "collapsed": true
   },
   "outputs": [],
   "source": [
    "import os\n",
    "import numpy as np\n",
    "import pandas as pd\n",
    "import pandas_profiling as pp\n",
    "from settings.constants import TRAIN_CSV, TEST_CSV, VAL_CSV, DATA_FOLDER\n",
    "from sklearn.linear_model import Lasso\n",
    "from sklearn.linear_model import LassoCV\n",
    "from sklearn.model_selection import train_test_split\n",
    "from sklearn.preprocessing import StandardScaler, LabelEncoder\n",
    "\n",
    "import warnings\n",
    "warnings.filterwarnings('ignore')"
   ]
  },
  {
   "cell_type": "markdown",
   "source": [
    "### Load the data"
   ],
   "metadata": {
    "collapsed": false,
    "pycharm": {
     "name": "#%% md\n"
    }
   }
  },
  {
   "cell_type": "code",
   "execution_count": 132,
   "outputs": [
    {
     "data": {
      "text/plain": "   Id  MSSubClass MSZoning  LotFrontage  LotArea Street Alley LotShape  \\\n0   1          60       RL         65.0     8450   Pave   NaN      Reg   \n1   2          20       RL         80.0     9600   Pave   NaN      Reg   \n2   3          60       RL         68.0    11250   Pave   NaN      IR1   \n3   4          70       RL         60.0     9550   Pave   NaN      IR1   \n4   5          60       RL         84.0    14260   Pave   NaN      IR1   \n\n  LandContour Utilities  ... PoolArea PoolQC Fence MiscFeature MiscVal MoSold  \\\n0         Lvl    AllPub  ...        0    NaN   NaN         NaN       0      2   \n1         Lvl    AllPub  ...        0    NaN   NaN         NaN       0      5   \n2         Lvl    AllPub  ...        0    NaN   NaN         NaN       0      9   \n3         Lvl    AllPub  ...        0    NaN   NaN         NaN       0      2   \n4         Lvl    AllPub  ...        0    NaN   NaN         NaN       0     12   \n\n  YrSold  SaleType  SaleCondition  SalePrice  \n0   2008        WD         Normal     208500  \n1   2007        WD         Normal     181500  \n2   2008        WD         Normal     223500  \n3   2006        WD        Abnorml     140000  \n4   2008        WD         Normal     250000  \n\n[5 rows x 81 columns]",
      "text/html": "<div>\n<style scoped>\n    .dataframe tbody tr th:only-of-type {\n        vertical-align: middle;\n    }\n\n    .dataframe tbody tr th {\n        vertical-align: top;\n    }\n\n    .dataframe thead th {\n        text-align: right;\n    }\n</style>\n<table border=\"1\" class=\"dataframe\">\n  <thead>\n    <tr style=\"text-align: right;\">\n      <th></th>\n      <th>Id</th>\n      <th>MSSubClass</th>\n      <th>MSZoning</th>\n      <th>LotFrontage</th>\n      <th>LotArea</th>\n      <th>Street</th>\n      <th>Alley</th>\n      <th>LotShape</th>\n      <th>LandContour</th>\n      <th>Utilities</th>\n      <th>...</th>\n      <th>PoolArea</th>\n      <th>PoolQC</th>\n      <th>Fence</th>\n      <th>MiscFeature</th>\n      <th>MiscVal</th>\n      <th>MoSold</th>\n      <th>YrSold</th>\n      <th>SaleType</th>\n      <th>SaleCondition</th>\n      <th>SalePrice</th>\n    </tr>\n  </thead>\n  <tbody>\n    <tr>\n      <th>0</th>\n      <td>1</td>\n      <td>60</td>\n      <td>RL</td>\n      <td>65.0</td>\n      <td>8450</td>\n      <td>Pave</td>\n      <td>NaN</td>\n      <td>Reg</td>\n      <td>Lvl</td>\n      <td>AllPub</td>\n      <td>...</td>\n      <td>0</td>\n      <td>NaN</td>\n      <td>NaN</td>\n      <td>NaN</td>\n      <td>0</td>\n      <td>2</td>\n      <td>2008</td>\n      <td>WD</td>\n      <td>Normal</td>\n      <td>208500</td>\n    </tr>\n    <tr>\n      <th>1</th>\n      <td>2</td>\n      <td>20</td>\n      <td>RL</td>\n      <td>80.0</td>\n      <td>9600</td>\n      <td>Pave</td>\n      <td>NaN</td>\n      <td>Reg</td>\n      <td>Lvl</td>\n      <td>AllPub</td>\n      <td>...</td>\n      <td>0</td>\n      <td>NaN</td>\n      <td>NaN</td>\n      <td>NaN</td>\n      <td>0</td>\n      <td>5</td>\n      <td>2007</td>\n      <td>WD</td>\n      <td>Normal</td>\n      <td>181500</td>\n    </tr>\n    <tr>\n      <th>2</th>\n      <td>3</td>\n      <td>60</td>\n      <td>RL</td>\n      <td>68.0</td>\n      <td>11250</td>\n      <td>Pave</td>\n      <td>NaN</td>\n      <td>IR1</td>\n      <td>Lvl</td>\n      <td>AllPub</td>\n      <td>...</td>\n      <td>0</td>\n      <td>NaN</td>\n      <td>NaN</td>\n      <td>NaN</td>\n      <td>0</td>\n      <td>9</td>\n      <td>2008</td>\n      <td>WD</td>\n      <td>Normal</td>\n      <td>223500</td>\n    </tr>\n    <tr>\n      <th>3</th>\n      <td>4</td>\n      <td>70</td>\n      <td>RL</td>\n      <td>60.0</td>\n      <td>9550</td>\n      <td>Pave</td>\n      <td>NaN</td>\n      <td>IR1</td>\n      <td>Lvl</td>\n      <td>AllPub</td>\n      <td>...</td>\n      <td>0</td>\n      <td>NaN</td>\n      <td>NaN</td>\n      <td>NaN</td>\n      <td>0</td>\n      <td>2</td>\n      <td>2006</td>\n      <td>WD</td>\n      <td>Abnorml</td>\n      <td>140000</td>\n    </tr>\n    <tr>\n      <th>4</th>\n      <td>5</td>\n      <td>60</td>\n      <td>RL</td>\n      <td>84.0</td>\n      <td>14260</td>\n      <td>Pave</td>\n      <td>NaN</td>\n      <td>IR1</td>\n      <td>Lvl</td>\n      <td>AllPub</td>\n      <td>...</td>\n      <td>0</td>\n      <td>NaN</td>\n      <td>NaN</td>\n      <td>NaN</td>\n      <td>0</td>\n      <td>12</td>\n      <td>2008</td>\n      <td>WD</td>\n      <td>Normal</td>\n      <td>250000</td>\n    </tr>\n  </tbody>\n</table>\n<p>5 rows × 81 columns</p>\n</div>"
     },
     "execution_count": 132,
     "metadata": {},
     "output_type": "execute_result"
    }
   ],
   "source": [
    "train = pd.read_csv(TRAIN_CSV, header=0)\n",
    "test = pd.read_csv(TEST_CSV, header=0)\n",
    "val = pd.read_csv(VAL_CSV, header=0)\n",
    "\n",
    "train.head()\n",
    "# prof = pp.ProfileReport(train, title=\"Pandas Profiling Report\")\n",
    "# prof\n",
    "# prof.to_file('profile_report.html')"
   ],
   "metadata": {
    "collapsed": false,
    "pycharm": {
     "name": "#%%\n"
    }
   }
  },
  {
   "cell_type": "code",
   "execution_count": 133,
   "outputs": [
    {
     "data": {
      "text/plain": "Id                  0\nMSSubClass          0\nMSZoning            4\nLotFrontage       486\nLotArea             0\nStreet              0\nAlley            2721\nLotShape            0\nLandContour         0\nUtilities           2\nLotConfig           0\nLandSlope           0\nNeighborhood        0\nCondition1          0\nCondition2          0\nBldgType            0\nHouseStyle          0\nOverallQual         0\nOverallCond         0\nYearBuilt           0\nYearRemodAdd        0\nRoofStyle           0\nRoofMatl            0\nExterior1st         1\nExterior2nd         1\nMasVnrType         24\nMasVnrArea         23\nExterQual           0\nExterCond           0\nFoundation          0\nBsmtQual           81\nBsmtCond           82\nBsmtExposure       82\nBsmtFinType1       79\nBsmtFinSF1          1\nBsmtFinType2       80\nBsmtFinSF2          1\nBsmtUnfSF           1\nTotalBsmtSF         1\nHeating             0\nHeatingQC           0\nCentralAir          0\nElectrical          1\n1stFlrSF            0\n2ndFlrSF            0\nLowQualFinSF        0\nGrLivArea           0\nBsmtFullBath        2\nBsmtHalfBath        2\nFullBath            0\nHalfBath            0\nBedroomAbvGr        0\nKitchenAbvGr        0\nKitchenQual         1\nTotRmsAbvGrd        0\nFunctional          2\nFireplaces          0\nFireplaceQu      1420\nGarageType        157\nGarageYrBlt       159\nGarageFinish      159\nGarageCars          1\nGarageArea          1\nGarageQual        159\nGarageCond        159\nPavedDrive          0\nWoodDeckSF          0\nOpenPorchSF         0\nEnclosedPorch       0\n3SsnPorch           0\nScreenPorch         0\nPoolArea            0\nPoolQC           2909\nFence            2348\nMiscFeature      2814\nMiscVal             0\nMoSold              0\nYrSold              0\nSaleType            1\nSaleCondition       0\ndtype: int64"
     },
     "metadata": {},
     "output_type": "display_data"
    }
   ],
   "source": [
    "y = train[['Id', 'SalePrice']]\n",
    "train = train.drop('SalePrice', axis=1)\n",
    "\n",
    "full_df = pd.concat([train, test]).reset_index(drop=True)\n",
    "def display_all(df):\n",
    "    with pd.option_context(\"display.max_rows\", 1000, \"display.max_columns\", 1000):\n",
    "        display(df)\n",
    "\n",
    "\n",
    "display_all(full_df.isnull().sum())"
   ],
   "metadata": {
    "collapsed": false,
    "pycharm": {
     "name": "#%%\n"
    }
   }
  },
  {
   "cell_type": "markdown",
   "source": [
    "### Data preprocessing and feature engineering"
   ],
   "metadata": {
    "collapsed": false,
    "pycharm": {
     "name": "#%% md\n"
    }
   }
  },
  {
   "cell_type": "code",
   "execution_count": 134,
   "outputs": [
    {
     "name": "stdout",
     "output_type": "stream",
     "text": [
      "Drop columns with too many null values:\n",
      "['Alley', 'PoolQC', 'MiscFeature', 'Fence', 'FireplaceQu', 'Utilities']\n",
      "\n",
      "\n",
      "Features that store null values\n"
     ]
    },
    {
     "data": {
      "text/plain": "MSZoning          4\nLotFrontage     486\nExterior1st       1\nExterior2nd       1\nMasVnrType       24\nMasVnrArea       23\nBsmtQual         81\nBsmtCond         82\nBsmtExposure     82\nBsmtFinType1     79\nBsmtFinSF1        1\nBsmtFinType2     80\nBsmtFinSF2        1\nBsmtUnfSF         1\nTotalBsmtSF       1\nElectrical        1\nBsmtFullBath      2\nBsmtHalfBath      2\nKitchenQual       1\nFunctional        2\nGarageType      157\nGarageYrBlt     159\nGarageFinish    159\nGarageCars        1\nGarageArea        1\nGarageQual      159\nGarageCond      159\nSaleType          1\ndtype: int64"
     },
     "metadata": {},
     "output_type": "display_data"
    }
   ],
   "source": [
    "print('Drop columns with too many null values:')\n",
    "dropped = ['Alley', 'PoolQC', 'MiscFeature', 'Fence', 'FireplaceQu', 'Utilities']\n",
    "full_df.drop(dropped, axis=1, inplace=True)\n",
    "print(dropped)\n",
    "print('\\n\\nFeatures that store null values')\n",
    "null_containing = full_df.isnull().sum()\n",
    "display_all(null_containing[null_containing > 0])"
   ],
   "metadata": {
    "collapsed": false,
    "pycharm": {
     "name": "#%%\n"
    }
   }
  },
  {
   "cell_type": "markdown",
   "source": [
    "#### Fill null values with something more valuable"
   ],
   "metadata": {
    "collapsed": false,
    "pycharm": {
     "name": "#%% md\n"
    }
   }
  },
  {
   "cell_type": "code",
   "execution_count": 135,
   "outputs": [],
   "source": [
    "full_df['LotFrontage'].fillna(value=full_df['LotFrontage'].median(),inplace=True)\n",
    "full_df['MasVnrType'].fillna(value='None',inplace=True)\n",
    "full_df['MasVnrArea'].fillna(0,inplace=True)\n",
    "full_df['BsmtCond'].fillna(value='TA',inplace=True)\n",
    "full_df['BsmtExposure'].fillna(value='No',inplace=True)\n",
    "full_df['Electrical'].fillna(value='SBrkr',inplace=True)\n",
    "full_df['BsmtFinType2'].fillna(value='Unf',inplace=True)\n",
    "full_df['GarageType'].fillna(value='Attchd',inplace=True)\n",
    "full_df['GarageYrBlt'].fillna(value=full_df['GarageYrBlt'].median(),inplace=True)\n",
    "full_df['GarageFinish'].fillna(value='Unf',inplace=True)\n",
    "full_df['GarageQual'].fillna(value='TA',inplace=True)\n",
    "full_df['GarageCond'].fillna(value='TA',inplace=True)\n",
    "full_df['BsmtFinType1'].fillna(value='NO',inplace=True)\n",
    "full_df['BsmtQual'].fillna(value='No',inplace=True)\n",
    "full_df['BsmtFullBath'].fillna(value=full_df['BsmtFullBath'].median(),inplace=True)\n",
    "full_df['BsmtFinSF1'].fillna(value=full_df['BsmtFinSF1'].median(),inplace=True)\n",
    "full_df['BsmtFinSF2'].fillna(value=0,inplace=True)\n",
    "full_df['BsmtUnfSF'].fillna(value=0,inplace=True)\n",
    "full_df['TotalBsmtSF'].fillna(value=full_df['TotalBsmtSF'].median(),inplace=True)\n",
    "full_df['BsmtHalfBath'].fillna(value=0,inplace=True)\n",
    "full_df['GarageCars'].fillna(value=full_df['GarageCars'].median(),inplace=True)\n",
    "full_df['GarageArea'].fillna(value=full_df['GarageArea'].median(),inplace=True)"
   ],
   "metadata": {
    "collapsed": false,
    "pycharm": {
     "name": "#%%\n"
    }
   }
  },
  {
   "cell_type": "markdown",
   "source": [
    "#### Encode all data using Label Encoding"
   ],
   "metadata": {
    "collapsed": false,
    "pycharm": {
     "name": "#%% md\n"
    }
   }
  },
  {
   "cell_type": "code",
   "execution_count": 136,
   "outputs": [],
   "source": [
    "le = LabelEncoder()\n",
    "\n",
    "full_df['MSZoning'] = le.fit_transform(full_df['MSZoning'])\n",
    "full_df['Exterior1st'] = le.fit_transform(full_df['Exterior1st'])\n",
    "full_df['Exterior2nd'] = le.fit_transform(full_df['Exterior2nd'])\n",
    "full_df['KitchenQual'] = le.fit_transform(full_df['KitchenQual'])\n",
    "full_df['Functional']    = le.fit_transform(full_df['Functional'].astype(str))\n",
    "full_df['SaleType']      = le.fit_transform(full_df['SaleType'].astype(str))\n",
    "full_df['Street']        = le.fit_transform(full_df['Street'])\n",
    "full_df['LotShape']      = le.fit_transform(full_df['LotShape'])\n",
    "full_df['LandContour']   = le.fit_transform(full_df['LandContour'])\n",
    "full_df['LotConfig']     = le.fit_transform(full_df['LotConfig'])\n",
    "full_df['LandSlope']     = le.fit_transform(full_df['LandSlope'])\n",
    "full_df['Neighborhood']  = le.fit_transform(full_df['Neighborhood'])\n",
    "full_df['Condition1']    = le.fit_transform(full_df['Condition1'])\n",
    "full_df['Condition2']    = le.fit_transform(full_df['Condition2'])\n",
    "full_df['BldgType']      = le.fit_transform(full_df['BldgType'])\n",
    "full_df['HouseStyle']    = le.fit_transform(full_df['HouseStyle'])\n",
    "full_df['RoofStyle']     = le.fit_transform(full_df['RoofStyle'])\n",
    "full_df['RoofMatl']      = le.fit_transform(full_df['RoofMatl'])\n",
    "full_df['MasVnrType']    = le.fit_transform(full_df['MasVnrType'])\n",
    "full_df['ExterQual']     = le.fit_transform(full_df['ExterQual'])\n",
    "full_df['ExterCond']     = le.fit_transform(full_df['ExterCond'])\n",
    "full_df['Foundation']    = le.fit_transform(full_df['Foundation'])\n",
    "full_df['BsmtQual']      = le.fit_transform(full_df['BsmtQual'])\n",
    "full_df['BsmtCond']      = le.fit_transform(full_df['BsmtCond'])\n",
    "full_df['BsmtExposure']  = le.fit_transform(full_df['BsmtExposure'])\n",
    "full_df['BsmtFinType1']  = le.fit_transform(full_df['BsmtFinType1'])\n",
    "full_df['BsmtFinType2']  = le.fit_transform(full_df['BsmtFinType2'])\n",
    "full_df['Heating']       = le.fit_transform(full_df['Heating'])\n",
    "full_df['HeatingQC']     = le.fit_transform(full_df['HeatingQC'])\n",
    "full_df['CentralAir']    = le.fit_transform(full_df['CentralAir'])\n",
    "full_df['Electrical']    = le.fit_transform(full_df['Electrical'])\n",
    "full_df['GarageType']    = le.fit_transform(full_df['GarageType'])\n",
    "full_df['GarageFinish']  = le.fit_transform(full_df['GarageFinish'])\n",
    "full_df['GarageQual']    = le.fit_transform(full_df['GarageQual'])\n",
    "full_df['GarageCond']    = le.fit_transform(full_df['GarageCond'])\n",
    "full_df['PavedDrive']    = le.fit_transform(full_df['PavedDrive'])\n",
    "full_df['SaleCondition'] = le.fit_transform(full_df['SaleCondition'])"
   ],
   "metadata": {
    "collapsed": false,
    "pycharm": {
     "name": "#%%\n"
    }
   }
  },
  {
   "cell_type": "markdown",
   "source": [
    "#### Scale the dataset"
   ],
   "metadata": {
    "collapsed": false,
    "pycharm": {
     "name": "#%% md\n"
    }
   }
  },
  {
   "cell_type": "code",
   "execution_count": 137,
   "outputs": [],
   "source": [
    "Scaler = StandardScaler()\n",
    "full_df_scaled = pd.DataFrame(Scaler.fit_transform(full_df))\n",
    "\n",
    "train_scaled = pd.DataFrame(full_df_scaled[:1460])\n",
    "test_scaled = pd.DataFrame(full_df_scaled[1460:2920])"
   ],
   "metadata": {
    "collapsed": false,
    "pycharm": {
     "name": "#%%\n"
    }
   }
  },
  {
   "cell_type": "code",
   "execution_count": 138,
   "outputs": [],
   "source": [
    "X = train_scaled\n",
    "X_train, X_test, y_train, y_test = train_test_split(X, y['SalePrice'], test_size=0.1, random_state=42)"
   ],
   "metadata": {
    "collapsed": false,
    "pycharm": {
     "name": "#%%\n"
    }
   }
  },
  {
   "cell_type": "markdown",
   "source": [
    "### XGBoost model"
   ],
   "metadata": {
    "collapsed": false,
    "pycharm": {
     "name": "#%% md\n"
    }
   },
   "execution_count": 71
  },
  {
   "cell_type": "code",
   "execution_count": 139,
   "outputs": [
    {
     "data": {
      "text/plain": "XGBRegressor(base_score=0.5, booster='gbtree', colsample_bylevel=1,\n             colsample_bynode=1, colsample_bytree=1, gamma=0, gpu_id=-1,\n             importance_type='gain', interaction_constraints='',\n             learning_rate=0.1, max_delta_step=0, max_depth=2,\n             min_child_weight=3, missing=nan, monotone_constraints='()',\n             n_estimators=1000, n_jobs=-1, num_parallel_tree=1, random_state=0,\n             reg_alpha=0.001, reg_lambda=1e-06, scale_pos_weight=1, subsample=1,\n             tree_method='exact', validate_parameters=1, verbosity=None)"
     },
     "execution_count": 139,
     "metadata": {},
     "output_type": "execute_result"
    }
   ],
   "source": [
    "from xgboost import XGBRegressor\n",
    "XGB = XGBRegressor(max_depth=2, learning_rate=0.1, n_estimators=1000, reg_alpha=0.001,\n",
    "                   reg_lambda=0.000001, n_jobs=-1, min_child_weight=3)\n",
    "XGB.fit(X_train, y_train)"
   ],
   "metadata": {
    "collapsed": false,
    "pycharm": {
     "name": "#%%\n"
    }
   }
  },
  {
   "cell_type": "markdown",
   "source": [
    "### LightGBM model"
   ],
   "metadata": {
    "collapsed": false,
    "pycharm": {
     "name": "#%% md\n"
    }
   }
  },
  {
   "cell_type": "code",
   "execution_count": 140,
   "outputs": [
    {
     "data": {
      "text/plain": "LGBMRegressor(n_estimators=1000)"
     },
     "execution_count": 140,
     "metadata": {},
     "output_type": "execute_result"
    }
   ],
   "source": [
    "from lightgbm import LGBMRegressor\n",
    "LGBM = LGBMRegressor(n_estimators=1000)\n",
    "LGBM.fit(X_train, y_train)"
   ],
   "metadata": {
    "collapsed": false,
    "pycharm": {
     "name": "#%%\n"
    }
   }
  },
  {
   "cell_type": "markdown",
   "source": [
    "### Models scores"
   ],
   "metadata": {
    "collapsed": false,
    "pycharm": {
     "name": "#%% md\n"
    }
   }
  },
  {
   "cell_type": "code",
   "execution_count": 141,
   "outputs": [
    {
     "name": "stdout",
     "output_type": "stream",
     "text": [
      "XGB training score:  0.9878463275580356\n",
      "XGB test score:  0.930856175748829\n",
      "LGBM training score:  0.9999557727264998\n",
      "LGBM test score:  0.9101390980189892\n"
     ]
    }
   ],
   "source": [
    "print(\"XGB training score: \", XGB.score(X_train, y_train))\n",
    "print(\"XGB test score: \", XGB.score(X_test, y_test))\n",
    "\n",
    "print(\"LGBM training score: \", LGBM.score(X_train, y_train))\n",
    "print(\"LGBM test score: \", LGBM.score(X_test, y_test))"
   ],
   "metadata": {
    "collapsed": false,
    "pycharm": {
     "name": "#%%\n"
    }
   }
  },
  {
   "cell_type": "markdown",
   "source": [
    "### Both models combined"
   ],
   "metadata": {
    "collapsed": false,
    "pycharm": {
     "name": "#%% md\n"
    }
   }
  },
  {
   "cell_type": "code",
   "execution_count": 142,
   "outputs": [],
   "source": [
    "y_pred_xgb = pd.DataFrame(XGB.predict(test_scaled))\n",
    "y_pred_lgbm = pd.DataFrame(LGBM.predict(test_scaled))\n",
    "\n",
    "y_pred = pd.DataFrame()\n",
    "y_pred['Id'] = test['Id']\n",
    "y_pred['SalePrice'] = 0.5 * y_pred_xgb[0] + 0.5 * y_pred_lgbm[0]"
   ],
   "metadata": {
    "collapsed": false,
    "pycharm": {
     "name": "#%%\n"
    }
   }
  },
  {
   "cell_type": "markdown",
   "source": [
    "### Submission"
   ],
   "metadata": {
    "collapsed": false,
    "pycharm": {
     "name": "#%% md\n"
    }
   }
  },
  {
   "cell_type": "code",
   "execution_count": 143,
   "outputs": [],
   "source": [
    "y_pred.to_csv(os.path.join(DATA_FOLDER, 'submission.csv'), index=False)"
   ],
   "metadata": {
    "collapsed": false,
    "pycharm": {
     "name": "#%%\n"
    }
   }
  }
 ],
 "metadata": {
  "kernelspec": {
   "display_name": "Python 3",
   "language": "python",
   "name": "python3"
  },
  "language_info": {
   "codemirror_mode": {
    "name": "ipython",
    "version": 2
   },
   "file_extension": ".py",
   "mimetype": "text/x-python",
   "name": "python",
   "nbconvert_exporter": "python",
   "pygments_lexer": "ipython2",
   "version": "2.7.6"
  }
 },
 "nbformat": 4,
 "nbformat_minor": 0
}